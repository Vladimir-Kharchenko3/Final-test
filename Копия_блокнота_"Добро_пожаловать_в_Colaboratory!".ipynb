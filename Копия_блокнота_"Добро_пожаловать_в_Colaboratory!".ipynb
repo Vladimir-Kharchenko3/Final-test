{
  "cells": [
    {
      "cell_type": "markdown",
      "metadata": {
        "id": "view-in-github",
        "colab_type": "text"
      },
      "source": [
        "<a href=\"https://colab.research.google.com/github/Vladimir-Kharchenko3/Final-test/blob/main/%D0%9A%D0%BE%D0%BF%D0%B8%D1%8F_%D0%B1%D0%BB%D0%BE%D0%BA%D0%BD%D0%BE%D1%82%D0%B0_%22%D0%94%D0%BE%D0%B1%D1%80%D0%BE_%D0%BF%D0%BE%D0%B6%D0%B0%D0%BB%D0%BE%D0%B2%D0%B0%D1%82%D1%8C_%D0%B2_Colaboratory!%22.ipynb\" target=\"_parent\"><img src=\"https://colab.research.google.com/assets/colab-badge.svg\" alt=\"Open In Colab\"/></a>"
      ]
    },
    {
      "cell_type": "code",
      "source": [
        "import pandas as pd\n",
        "\n",
        "import random\n",
        "lst = ['robot'] * 10\n",
        "lst += ['human'] * 10\n",
        "random.shuffle(lst)\n",
        "data = pd.DataFrame({'whoAmI': lst})\n",
        "print(\"Исходные данные:\")\n",
        "print(data.head())\n",
        "\n",
        "\n",
        "one_hot_encoded = pd.get_dummies(data['whoAmI'], prefix='whoAmI')\n",
        "data_one_hot = pd.concat([data, one_hot_encoded], axis=1).drop('whoAmI', axis=1)\n",
        "\n",
        "print(\"\\nOne-hot представление:\")\n",
        "print(data_one_hot.head())"
      ],
      "metadata": {
        "colab": {
          "base_uri": "https://localhost:8080/"
        },
        "id": "jn_6pEfB7NF1",
        "outputId": "76768742-4868-4b5d-8f1f-1970591db4be"
      },
      "execution_count": null,
      "outputs": [
        {
          "output_type": "stream",
          "name": "stdout",
          "text": [
            "Исходные данные:\n",
            "  whoAmI\n",
            "0  human\n",
            "1  robot\n",
            "2  robot\n",
            "3  human\n",
            "4  robot\n",
            "\n",
            "One-hot представление:\n",
            "   whoAmI_human  whoAmI_robot\n",
            "0             1             0\n",
            "1             0             1\n",
            "2             0             1\n",
            "3             1             0\n",
            "4             0             1\n"
          ]
        }
      ]
    }
  ],
  "metadata": {
    "colab": {
      "toc_visible": true,
      "provenance": [],
      "include_colab_link": true
    },
    "kernelspec": {
      "display_name": "Python 3",
      "name": "python3"
    }
  },
  "nbformat": 4,
  "nbformat_minor": 0
}